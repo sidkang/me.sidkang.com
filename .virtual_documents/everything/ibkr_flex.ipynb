


import pandas as pd
import requests
from typing import Dict, List
import re
import time
import datetime as dt
from functools import lru_cache
from pathlib import Path


pd.set_option("display.max_rows", 100)


def fetch_ibkr_data(token: str, query_id: str) -> str:
    s = requests.Session()
    base_url = "https://gdcdyn.interactivebrokers.com/Universal/servlet/FlexStatementService.SendRequest"
    params = {
        "t": token,
        "q": query_id,
        "v": "3",
    }
    initial_response = s.get(base_url, params=params)
    if "Success" in initial_response.text:
        print("init response succeed")
        next_url = re.search("(?<=\<Url\>).*(?=\<\/Url\>)", initial_response.text)[0]
        params["q"] = re.search("(?<=\<ReferenceCode\>).*(?=\<\/ReferenceCode\>)", initial_response.text)[0]

    
    while True:
        time.sleep(10)
        response = s.get(next_url, params=params)
        if "<ErrorCode>1019</ErrorCode>" in response.text:
            print("1019 code, wait 5")
            time.sleep(5)
        elif "<ErrorCode>1018</ErrorCode>" in response.text:
            print("1018 code, wait 10")
            time.sleep(10)
        elif "ErrorCode" in response.text:
            print(response.text)
            if "<ErrorCode>1022</ErrorCode>" in response.text:
                raise UserWarning("Remove 'Commission Detail' section in the flex query setting")
            break
        else:
            print("ok")
            return response.text
    


def get_flex_xml(token: str, query_id: str, filename: str = None):
    if filename is None:
        filename = f"ibkr_flex_{dt.date.today():%Y_%m_%d}.xml"

    try:
        with open(filename, "r") as f:
            return filename
    except FileNotFoundError:
        with open(filename, "w") as f:
            f.write(fetch_ibkr_data(token, query_id))
            return filename

    raise("?")


# Tokens
FLEX_TOKEN = "244948651951599836560455"
FLEX_QUERY_ID = "836493"
FLEX_QUERY_NAME = "SIDSTOOL"


# xml_data = fetch_ibkr_data(FLEX_TOKEN, FLEX_QUERY_ID)
# xml_data[:300]


flex_file = get_flex_xml(FLEX_TOKEN, FLEX_QUERY_ID)





with open(flex_file, "r") as f:
    flex_xml = f.read()

for r in re.findall("\<[a-zA-Z]*s\>", flex_xml):
    print(r)


ibkr_flex_xml[-300:]


openPositions = pd.read_xml(flex_file, xpath="//OpenPositions/OpenPosition")
trades = pd.read_xml(flex_file, xpath="//Trades/Trade")





trades.head(10).transpose()


trades[["accountId", "currency", "symbol"  ]]





print(trades.columns)



