{
 "cells": [
  {
   "cell_type": "code",
   "execution_count": 2,
   "id": "bd6dc689-18f3-4285-b59d-4c95d9664e8e",
   "metadata": {
    "tags": []
   },
   "outputs": [],
   "source": [
    "let a = \"sfdsfsadfasdf\";"
   ]
  },
  {
   "cell_type": "code",
   "execution_count": 4,
   "id": "a185a1b2-42ac-43f4-9b10-3b0d248b8807",
   "metadata": {
    "tags": []
   },
   "outputs": [
    {
     "name": "stdout",
     "output_type": "stream",
     "text": [
      "sfdsfsadfasdf\n"
     ]
    }
   ],
   "source": [
    "println!(\"{a}\");"
   ]
  },
  {
   "cell_type": "code",
   "execution_count": null,
   "id": "87961844-dcea-4ced-aff6-6f21cdd07f97",
   "metadata": {},
   "outputs": [],
   "source": []
  }
 ],
 "metadata": {
  "kernelspec": {
   "display_name": "Rust",
   "language": "rust",
   "name": "rust"
  },
  "language_info": {
   "codemirror_mode": "rust",
   "file_extension": ".rs",
   "mimetype": "text/rust",
   "name": "Rust",
   "pygment_lexer": "rust",
   "version": ""
  }
 },
 "nbformat": 4,
 "nbformat_minor": 5
}
